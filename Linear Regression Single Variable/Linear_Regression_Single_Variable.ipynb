{
  "nbformat": 4,
  "nbformat_minor": 0,
  "metadata": {
    "colab": {
      "provenance": []
    },
    "kernelspec": {
      "name": "python3",
      "display_name": "Python 3"
    },
    "language_info": {
      "name": "python"
    }
  },
  "cells": [
    {
      "cell_type": "markdown",
      "source": [
        "# **Linear Regression with One Variable using Gradient Descent (from Scratch)**"
      ],
      "metadata": {
        "id": "8PFoRHGKzEwW"
      }
    },
    {
      "cell_type": "markdown",
      "source": [
        "# Step 1: Import Libraries and Load Data"
      ],
      "metadata": {
        "id": "VEfoUZ45zRI1"
      }
    },
    {
      "cell_type": "code",
      "source": [
        "import pandas as pd\n",
        "import numpy as np\n",
        "import matplotlib.pyplot as plt\n",
        "\n",
        "\n",
        "data = pd.read_csv(\"experience_salary.csv\")\n",
        "\n",
        "\n",
        "X = data['YearsExperience']\n",
        "Y = data['Salary']\n",
        "\n",
        "data.head()\n",
        "# data.describe()\n",
        "\n",
        "# print(X)\n",
        "# print(Y)"
      ],
      "metadata": {
        "colab": {
          "base_uri": "https://localhost:8080/",
          "height": 206
        },
        "id": "Sfr_H6EozMlN",
        "outputId": "e081866c-3515-4620-af4d-1cb4dfc032e1"
      },
      "execution_count": 12,
      "outputs": [
        {
          "output_type": "execute_result",
          "data": {
            "text/plain": [
              "   YearsExperience  Salary\n",
              "0                1   20000\n",
              "1                2   25000\n",
              "2                3   30000\n",
              "3                4   35000\n",
              "4                5   40000"
            ],
            "text/html": [
              "\n",
              "  <div id=\"df-03351403-76ab-4fb2-bcae-c5a7d35f77eb\" class=\"colab-df-container\">\n",
              "    <div>\n",
              "<style scoped>\n",
              "    .dataframe tbody tr th:only-of-type {\n",
              "        vertical-align: middle;\n",
              "    }\n",
              "\n",
              "    .dataframe tbody tr th {\n",
              "        vertical-align: top;\n",
              "    }\n",
              "\n",
              "    .dataframe thead th {\n",
              "        text-align: right;\n",
              "    }\n",
              "</style>\n",
              "<table border=\"1\" class=\"dataframe\">\n",
              "  <thead>\n",
              "    <tr style=\"text-align: right;\">\n",
              "      <th></th>\n",
              "      <th>YearsExperience</th>\n",
              "      <th>Salary</th>\n",
              "    </tr>\n",
              "  </thead>\n",
              "  <tbody>\n",
              "    <tr>\n",
              "      <th>0</th>\n",
              "      <td>1</td>\n",
              "      <td>20000</td>\n",
              "    </tr>\n",
              "    <tr>\n",
              "      <th>1</th>\n",
              "      <td>2</td>\n",
              "      <td>25000</td>\n",
              "    </tr>\n",
              "    <tr>\n",
              "      <th>2</th>\n",
              "      <td>3</td>\n",
              "      <td>30000</td>\n",
              "    </tr>\n",
              "    <tr>\n",
              "      <th>3</th>\n",
              "      <td>4</td>\n",
              "      <td>35000</td>\n",
              "    </tr>\n",
              "    <tr>\n",
              "      <th>4</th>\n",
              "      <td>5</td>\n",
              "      <td>40000</td>\n",
              "    </tr>\n",
              "  </tbody>\n",
              "</table>\n",
              "</div>\n",
              "    <div class=\"colab-df-buttons\">\n",
              "\n",
              "  <div class=\"colab-df-container\">\n",
              "    <button class=\"colab-df-convert\" onclick=\"convertToInteractive('df-03351403-76ab-4fb2-bcae-c5a7d35f77eb')\"\n",
              "            title=\"Convert this dataframe to an interactive table.\"\n",
              "            style=\"display:none;\">\n",
              "\n",
              "  <svg xmlns=\"http://www.w3.org/2000/svg\" height=\"24px\" viewBox=\"0 -960 960 960\">\n",
              "    <path d=\"M120-120v-720h720v720H120Zm60-500h600v-160H180v160Zm220 220h160v-160H400v160Zm0 220h160v-160H400v160ZM180-400h160v-160H180v160Zm440 0h160v-160H620v160ZM180-180h160v-160H180v160Zm440 0h160v-160H620v160Z\"/>\n",
              "  </svg>\n",
              "    </button>\n",
              "\n",
              "  <style>\n",
              "    .colab-df-container {\n",
              "      display:flex;\n",
              "      gap: 12px;\n",
              "    }\n",
              "\n",
              "    .colab-df-convert {\n",
              "      background-color: #E8F0FE;\n",
              "      border: none;\n",
              "      border-radius: 50%;\n",
              "      cursor: pointer;\n",
              "      display: none;\n",
              "      fill: #1967D2;\n",
              "      height: 32px;\n",
              "      padding: 0 0 0 0;\n",
              "      width: 32px;\n",
              "    }\n",
              "\n",
              "    .colab-df-convert:hover {\n",
              "      background-color: #E2EBFA;\n",
              "      box-shadow: 0px 1px 2px rgba(60, 64, 67, 0.3), 0px 1px 3px 1px rgba(60, 64, 67, 0.15);\n",
              "      fill: #174EA6;\n",
              "    }\n",
              "\n",
              "    .colab-df-buttons div {\n",
              "      margin-bottom: 4px;\n",
              "    }\n",
              "\n",
              "    [theme=dark] .colab-df-convert {\n",
              "      background-color: #3B4455;\n",
              "      fill: #D2E3FC;\n",
              "    }\n",
              "\n",
              "    [theme=dark] .colab-df-convert:hover {\n",
              "      background-color: #434B5C;\n",
              "      box-shadow: 0px 1px 3px 1px rgba(0, 0, 0, 0.15);\n",
              "      filter: drop-shadow(0px 1px 2px rgba(0, 0, 0, 0.3));\n",
              "      fill: #FFFFFF;\n",
              "    }\n",
              "  </style>\n",
              "\n",
              "    <script>\n",
              "      const buttonEl =\n",
              "        document.querySelector('#df-03351403-76ab-4fb2-bcae-c5a7d35f77eb button.colab-df-convert');\n",
              "      buttonEl.style.display =\n",
              "        google.colab.kernel.accessAllowed ? 'block' : 'none';\n",
              "\n",
              "      async function convertToInteractive(key) {\n",
              "        const element = document.querySelector('#df-03351403-76ab-4fb2-bcae-c5a7d35f77eb');\n",
              "        const dataTable =\n",
              "          await google.colab.kernel.invokeFunction('convertToInteractive',\n",
              "                                                    [key], {});\n",
              "        if (!dataTable) return;\n",
              "\n",
              "        const docLinkHtml = 'Like what you see? Visit the ' +\n",
              "          '<a target=\"_blank\" href=https://colab.research.google.com/notebooks/data_table.ipynb>data table notebook</a>'\n",
              "          + ' to learn more about interactive tables.';\n",
              "        element.innerHTML = '';\n",
              "        dataTable['output_type'] = 'display_data';\n",
              "        await google.colab.output.renderOutput(dataTable, element);\n",
              "        const docLink = document.createElement('div');\n",
              "        docLink.innerHTML = docLinkHtml;\n",
              "        element.appendChild(docLink);\n",
              "      }\n",
              "    </script>\n",
              "  </div>\n",
              "\n",
              "\n",
              "    <div id=\"df-7da9879d-aa24-4be6-921c-5f97c00bd125\">\n",
              "      <button class=\"colab-df-quickchart\" onclick=\"quickchart('df-7da9879d-aa24-4be6-921c-5f97c00bd125')\"\n",
              "                title=\"Suggest charts\"\n",
              "                style=\"display:none;\">\n",
              "\n",
              "<svg xmlns=\"http://www.w3.org/2000/svg\" height=\"24px\"viewBox=\"0 0 24 24\"\n",
              "     width=\"24px\">\n",
              "    <g>\n",
              "        <path d=\"M19 3H5c-1.1 0-2 .9-2 2v14c0 1.1.9 2 2 2h14c1.1 0 2-.9 2-2V5c0-1.1-.9-2-2-2zM9 17H7v-7h2v7zm4 0h-2V7h2v10zm4 0h-2v-4h2v4z\"/>\n",
              "    </g>\n",
              "</svg>\n",
              "      </button>\n",
              "\n",
              "<style>\n",
              "  .colab-df-quickchart {\n",
              "      --bg-color: #E8F0FE;\n",
              "      --fill-color: #1967D2;\n",
              "      --hover-bg-color: #E2EBFA;\n",
              "      --hover-fill-color: #174EA6;\n",
              "      --disabled-fill-color: #AAA;\n",
              "      --disabled-bg-color: #DDD;\n",
              "  }\n",
              "\n",
              "  [theme=dark] .colab-df-quickchart {\n",
              "      --bg-color: #3B4455;\n",
              "      --fill-color: #D2E3FC;\n",
              "      --hover-bg-color: #434B5C;\n",
              "      --hover-fill-color: #FFFFFF;\n",
              "      --disabled-bg-color: #3B4455;\n",
              "      --disabled-fill-color: #666;\n",
              "  }\n",
              "\n",
              "  .colab-df-quickchart {\n",
              "    background-color: var(--bg-color);\n",
              "    border: none;\n",
              "    border-radius: 50%;\n",
              "    cursor: pointer;\n",
              "    display: none;\n",
              "    fill: var(--fill-color);\n",
              "    height: 32px;\n",
              "    padding: 0;\n",
              "    width: 32px;\n",
              "  }\n",
              "\n",
              "  .colab-df-quickchart:hover {\n",
              "    background-color: var(--hover-bg-color);\n",
              "    box-shadow: 0 1px 2px rgba(60, 64, 67, 0.3), 0 1px 3px 1px rgba(60, 64, 67, 0.15);\n",
              "    fill: var(--button-hover-fill-color);\n",
              "  }\n",
              "\n",
              "  .colab-df-quickchart-complete:disabled,\n",
              "  .colab-df-quickchart-complete:disabled:hover {\n",
              "    background-color: var(--disabled-bg-color);\n",
              "    fill: var(--disabled-fill-color);\n",
              "    box-shadow: none;\n",
              "  }\n",
              "\n",
              "  .colab-df-spinner {\n",
              "    border: 2px solid var(--fill-color);\n",
              "    border-color: transparent;\n",
              "    border-bottom-color: var(--fill-color);\n",
              "    animation:\n",
              "      spin 1s steps(1) infinite;\n",
              "  }\n",
              "\n",
              "  @keyframes spin {\n",
              "    0% {\n",
              "      border-color: transparent;\n",
              "      border-bottom-color: var(--fill-color);\n",
              "      border-left-color: var(--fill-color);\n",
              "    }\n",
              "    20% {\n",
              "      border-color: transparent;\n",
              "      border-left-color: var(--fill-color);\n",
              "      border-top-color: var(--fill-color);\n",
              "    }\n",
              "    30% {\n",
              "      border-color: transparent;\n",
              "      border-left-color: var(--fill-color);\n",
              "      border-top-color: var(--fill-color);\n",
              "      border-right-color: var(--fill-color);\n",
              "    }\n",
              "    40% {\n",
              "      border-color: transparent;\n",
              "      border-right-color: var(--fill-color);\n",
              "      border-top-color: var(--fill-color);\n",
              "    }\n",
              "    60% {\n",
              "      border-color: transparent;\n",
              "      border-right-color: var(--fill-color);\n",
              "    }\n",
              "    80% {\n",
              "      border-color: transparent;\n",
              "      border-right-color: var(--fill-color);\n",
              "      border-bottom-color: var(--fill-color);\n",
              "    }\n",
              "    90% {\n",
              "      border-color: transparent;\n",
              "      border-bottom-color: var(--fill-color);\n",
              "    }\n",
              "  }\n",
              "</style>\n",
              "\n",
              "      <script>\n",
              "        async function quickchart(key) {\n",
              "          const quickchartButtonEl =\n",
              "            document.querySelector('#' + key + ' button');\n",
              "          quickchartButtonEl.disabled = true;  // To prevent multiple clicks.\n",
              "          quickchartButtonEl.classList.add('colab-df-spinner');\n",
              "          try {\n",
              "            const charts = await google.colab.kernel.invokeFunction(\n",
              "                'suggestCharts', [key], {});\n",
              "          } catch (error) {\n",
              "            console.error('Error during call to suggestCharts:', error);\n",
              "          }\n",
              "          quickchartButtonEl.classList.remove('colab-df-spinner');\n",
              "          quickchartButtonEl.classList.add('colab-df-quickchart-complete');\n",
              "        }\n",
              "        (() => {\n",
              "          let quickchartButtonEl =\n",
              "            document.querySelector('#df-7da9879d-aa24-4be6-921c-5f97c00bd125 button');\n",
              "          quickchartButtonEl.style.display =\n",
              "            google.colab.kernel.accessAllowed ? 'block' : 'none';\n",
              "        })();\n",
              "      </script>\n",
              "    </div>\n",
              "\n",
              "    </div>\n",
              "  </div>\n"
            ],
            "application/vnd.google.colaboratory.intrinsic+json": {
              "type": "dataframe",
              "summary": "{\n  \"name\": \"# print(Y)\",\n  \"rows\": 5,\n  \"fields\": [\n    {\n      \"column\": \"YearsExperience\",\n      \"properties\": {\n        \"dtype\": \"number\",\n        \"std\": 1,\n        \"min\": 1,\n        \"max\": 5,\n        \"num_unique_values\": 5,\n        \"samples\": [\n          2,\n          5,\n          3\n        ],\n        \"semantic_type\": \"\",\n        \"description\": \"\"\n      }\n    },\n    {\n      \"column\": \"Salary\",\n      \"properties\": {\n        \"dtype\": \"number\",\n        \"std\": 7905,\n        \"min\": 20000,\n        \"max\": 40000,\n        \"num_unique_values\": 5,\n        \"samples\": [\n          25000,\n          40000,\n          30000\n        ],\n        \"semantic_type\": \"\",\n        \"description\": \"\"\n      }\n    }\n  ]\n}"
            }
          },
          "metadata": {},
          "execution_count": 12
        }
      ]
    },
    {
      "cell_type": "markdown",
      "source": [
        "# Step 2: Visualize the Data"
      ],
      "metadata": {
        "id": "SvUxBxsL022I"
      }
    },
    {
      "cell_type": "code",
      "source": [
        "plt.scatter(X,Y, color='red',marker='+')\n",
        "plt.xlabel('Years of Experience')\n",
        "plt.ylabel('Salary')\n",
        "plt.title('Experience vs. Salary\\n')\n",
        "plt.grid(True)\n",
        "plt.show()"
      ],
      "metadata": {
        "colab": {
          "base_uri": "https://localhost:8080/",
          "height": 493
        },
        "id": "xNAqcLtv08eg",
        "outputId": "314c337a-2083-463a-aba1-2ce8b18794fe"
      },
      "execution_count": 23,
      "outputs": [
        {
          "output_type": "display_data",
          "data": {
            "text/plain": [
              "<Figure size 640x480 with 1 Axes>"
            ],
            "image/png": "[encoded data removed]"
          },
          "metadata": {}
        }
      ]
    },
    {
      "cell_type": "markdown",
      "source": [
        "# Step 3: Initialize Parameters"
      ],
      "metadata": {
        "id": "OLAeNXog2A1e"
      }
    },
    {
      "cell_type": "code",
      "source": [
        "m=0\n",
        "b=0\n",
        "learning_rate = 0.01\n",
        "cost_history = [] #store cost values for each epoch\n",
        "epochs = 1000 # Number of iterations over the entire dataset for gradient descent\n",
        "n=len(X)"
      ],
      "metadata": {
        "id": "XP42TH1s1uxK"
      },
      "execution_count": 27,
      "outputs": []
    },
    {
      "cell_type": "markdown",
      "source": [
        "# Step 4: Cost Function and Gradient Descent"
      ],
      "metadata": {
        "id": "H4bcEG9N22am"
      }
    },
    {
      "cell_type": "code",
      "source": [
        "# Cost Function: Mean Squared Error\n",
        "\n",
        "def compute_cost(X,Y,m,b):\n",
        "  n=len(X)\n",
        "  Y_pred= m*X + b\n",
        "  cost = (1/(2*n)) * np.sum( (Y_pred - Y)** 2 )\n",
        "  return cost\n",
        "\n",
        "\n",
        "# One Step of Gradient Descent\n",
        "def gradient_descent(X,Y,m,b,learning_rate):\n",
        "  n = len(X)\n",
        "  Y_pred= m*X + b\n",
        "  error = Y_pred - Y\n",
        "\n",
        "  dm = (1/n)* np.sum(error * X)\n",
        "  db = (1/n)* np.sum(error)\n",
        "\n",
        "  m = m - learning_rate * dm\n",
        "  b = b - learning_rate * db\n",
        "\n",
        "  return m,b"
      ],
      "metadata": {
        "id": "4onRMi-x27UU"
      },
      "execution_count": 37,
      "outputs": []
    },
    {
      "cell_type": "markdown",
      "source": [
        "# Step 5: Train the Model Using Gradient Descent"
      ],
      "metadata": {
        "id": "JSW-ehqBJwIE"
      }
    },
    {
      "cell_type": "code",
      "source": [
        "# Perform Gradient Descent\n",
        "\n",
        "for i in range(epochs):\n",
        "  m,b = gradient_descent(X,Y,m,b,learning_rate)\n",
        "  cost = compute_cost(X,Y,m,b)\n",
        "  cost_history.append(cost)\n",
        "\n",
        "  # Optional: print progress every 100 iterations\n",
        "  if i % 100 == 0:\n",
        "    print(f\"Iteration {i}: Cost = {cost:.4f}, m = {m:.4f}, b = {b:.4f}\")\n",
        "\n",
        "\n"
      ],
      "metadata": {
        "colab": {
          "base_uri": "https://localhost:8080/"
        },
        "id": "zHkQ0W-GJzus",
        "outputId": "d803715d-2d28-4fed-85b2-862743631f40"
      },
      "execution_count": 38,
      "outputs": [
        {
          "output_type": "stream",
          "name": "stdout",
          "text": [
            "Iteration 0: Cost = 372445000.0000, m = 1000.0000, b = 300.0000\n",
            "Iteration 100: Cost = 10339290.7198, m = 7952.2605, b = 4341.3036\n",
            "Iteration 200: Cost = 7371114.8628, m = 7492.7553, b = 6000.3624\n",
            "Iteration 300: Cost = 5255034.9744, m = 7104.7517, b = 7401.1786\n",
            "Iteration 400: Cost = 3746433.6259, m = 6777.1418, b = 8583.9543\n",
            "Iteration 500: Cost = 2670917.5070, m = 6500.5252, b = 9582.6279\n",
            "Iteration 600: Cost = 1904157.6714, m = 6266.9647, b = 10425.8555\n",
            "Iteration 700: Cost = 1357517.1933, m = 6069.7585, b = 11137.8325\n",
            "Iteration 800: Cost = 967804.7978, m = 5903.2479, b = 11738.9886\n",
            "Iteration 900: Cost = 689969.9917, m = 5762.6551, b = 12246.5732\n"
          ]
        }
      ]
    },
    {
      "cell_type": "code",
      "source": [
        "# Final Model Parameters\n",
        "\n",
        "print(f\"Final Slope (m): {m}\")\n",
        "print(f\"Final Intercept (b): {b}\")\n",
        "print(f\"Final Cost (MSE): {cost_history[-1]}\")"
      ],
      "metadata": {
        "colab": {
          "base_uri": "https://localhost:8080/"
        },
        "id": "x91W4IvrKq4a",
        "outputId": "4534f7bc-1f67-46af-8f71-d71fd5ac18f4"
      },
      "execution_count": 57,
      "outputs": [
        {
          "output_type": "stream",
          "name": "stdout",
          "text": [
            "Final Slope (m): 5645.036311841829\n",
            "Final Intercept (b): 12671.214245337576\n",
            "Final Cost (MSE): 493562.56255739694\n"
          ]
        }
      ]
    },
    {
      "cell_type": "code",
      "source": [
        "# Plot the Cost Over Iterations\n",
        "\n",
        "plt.plot(range(epochs), cost_history)\n",
        "plt.xlabel(\"epochs\")\n",
        "plt.ylabel(\"Cost\")\n",
        "plt.title(\"Cost Reduction Over Time\")\n",
        "plt.show()"
      ],
      "metadata": {
        "colab": {
          "base_uri": "https://localhost:8080/",
          "height": 472
        },
        "id": "qw2wDgnML8s_",
        "outputId": "adaf3419-549f-43ce-9fa2-03573ba7448b"
      },
      "execution_count": 58,
      "outputs": [
        {
          "output_type": "display_data",
          "data": {
            "text/plain": [
              "<Figure size 640x480 with 1 Axes>"
            ],
            "image/png": "[encoded data removed]"
          },
          "metadata": {}
        }
      ]
    },
    {
      "cell_type": "markdown",
      "source": [
        "# Step 6: Make Predictions"
      ],
      "metadata": {
        "id": "Ytl-pAH7Kyvx"
      }
    },
    {
      "cell_type": "code",
      "source": [
        "def predict(X):\n",
        "  return m * X + b\n",
        "\n",
        "# Predict salary for 6 years of experience\n",
        "x_test = 6\n",
        "print(f\"Predicted Salary for {x_test} years experience: {predict(x_test)}\")\n",
        "\n"
      ],
      "metadata": {
        "colab": {
          "base_uri": "https://localhost:8080/"
        },
        "id": "SNhBiE4jK04p",
        "outputId": "838dddd2-d73e-404a-edc7-349f2a9580d4"
      },
      "execution_count": 59,
      "outputs": [
        {
          "output_type": "stream",
          "name": "stdout",
          "text": [
            "Predicted Salary for 6 years experience: 46541.432116388554\n"
          ]
        }
      ]
    },
    {
      "cell_type": "markdown",
      "source": [
        "# Step 7: Plot Regression Line"
      ],
      "metadata": {
        "id": "haahIRplMfOG"
      }
    },
    {
      "cell_type": "code",
      "source": [
        "plt.scatter(X,Y, color = 'red', label='Data Points')\n",
        "plt.plot(X, m*X + b, color='blue', label='Regression Line')\n",
        "plt.xlabel('Years of Experience')\n",
        "plt.ylabel('Salary')\n",
        "plt.title('Experience vs. Salary')\n",
        "plt.legend()\n",
        "plt.grid(True)\n",
        "plt.show()"
      ],
      "metadata": {
        "colab": {
          "base_uri": "https://localhost:8080/",
          "height": 472
        },
        "id": "TK5qBW4VMid9",
        "outputId": "cfe04782-79dc-4970-c717-bf52191a5a1c"
      },
      "execution_count": 61,
      "outputs": [
        {
          "output_type": "display_data",
          "data": {
            "text/plain": [
              "<Figure size 640x480 with 1 Axes>"
            ],
            "image/png": "[encoded data removed]"
          },
          "metadata": {}
        }
      ]
    }
  ]
}